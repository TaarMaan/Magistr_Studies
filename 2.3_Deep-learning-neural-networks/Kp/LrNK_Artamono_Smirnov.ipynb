{
  "nbformat": 4,
  "nbformat_minor": 0,
  "metadata": {
    "colab": {
      "name": "LrNK_Artamono/Smirnov.ipynb",
      "provenance": [],
      "collapsed_sections": [],
      "mount_file_id": "1Kkspc7FoalbEdSK2JzFvFhDVIU9Y4Wb3",
      "authorship_tag": "ABX9TyOOjA+LgfaLAunlsaVBNMLJ",
      "include_colab_link": true
    },
    "kernelspec": {
      "name": "python3",
      "display_name": "Python 3"
    },
    "language_info": {
      "name": "python"
    },
    "gpuClass": "standard"
  },
  "cells": [
    {
      "cell_type": "markdown",
      "metadata": {
        "id": "view-in-github",
        "colab_type": "text"
      },
      "source": [
        "<a href=\"https://colab.research.google.com/github/TaarMaan/LrNK_Artamonov-Smirnov-/blob/main/LrNK_Artamono_Smirnov.ipynb\" target=\"_parent\"><img src=\"https://colab.research.google.com/assets/colab-badge.svg\" alt=\"Open In Colab\"/></a>"
      ]
    },
    {
      "cell_type": "code",
      "execution_count": 1,
      "metadata": {
        "id": "YM-SzRazgAuT"
      },
      "outputs": [],
      "source": [
        "import warnings\n",
        "warnings.filterwarnings(\"ignore\")\n",
        "\n",
        "import numpy as np\n",
        "\n",
        "from matplotlib import pyplot as plt\n",
        "\n",
        "from nltk.corpus import brown\n",
        "from nltk.corpus import treebank\n",
        "from nltk.corpus import conll2000\n",
        "\n",
        "import seaborn as sns\n",
        "\n",
        "from gensim.models import KeyedVectors\n",
        "\n",
        "from keras.preprocessing.sequence import pad_sequences\n",
        "from keras.utils.np_utils import to_categorical\n",
        "from keras.models import Sequential\n",
        "from keras.layers import Embedding\n",
        "from keras.layers import Dense, Input\n",
        "from keras.layers import TimeDistributed\n",
        "from keras.layers import LSTM, GRU, Bidirectional, SimpleRNN, RNN\n",
        "from keras.models import Model\n",
        "from keras.preprocessing.text import Tokenizer\n",
        "\n",
        "from sklearn.model_selection import train_test_split\n",
        "from sklearn.utils import shuffle"
      ]
    },
    {
      "cell_type": "code",
      "source": [
        "import nltk\n",
        "nltk.download('brown')\n",
        "nltk.download('treebank')\n",
        "nltk.download('conll2000')\n",
        "nltk.download('universal_tagset')\n",
        "treebank_corpus = treebank.tagged_sents(tagset='universal')\n",
        "brown_corpus = brown.tagged_sents(tagset='universal')\n",
        "conll_corpus = conll2000.tagged_sents(tagset='universal')\n",
        "tagged_sentences =  brown_corpus +conll_corpus+treebank_corpus"
      ],
      "metadata": {
        "colab": {
          "base_uri": "https://localhost:8080/"
        },
        "id": "_Z0tj7HSgIeK",
        "outputId": "ffa436f1-0b1e-4cae-9757-b1af38295445"
      },
      "execution_count": 2,
      "outputs": [
        {
          "output_type": "stream",
          "name": "stderr",
          "text": [
            "[nltk_data] Downloading package brown to /root/nltk_data...\n",
            "[nltk_data]   Unzipping corpora/brown.zip.\n",
            "[nltk_data] Downloading package treebank to /root/nltk_data...\n",
            "[nltk_data]   Unzipping corpora/treebank.zip.\n",
            "[nltk_data] Downloading package conll2000 to /root/nltk_data...\n",
            "[nltk_data]   Unzipping corpora/conll2000.zip.\n",
            "[nltk_data] Downloading package universal_tagset to /root/nltk_data...\n",
            "[nltk_data]   Unzipping taggers/universal_tagset.zip.\n"
          ]
        }
      ]
    },
    {
      "cell_type": "code",
      "source": [
        "len(tagged_sentences)"
      ],
      "metadata": {
        "colab": {
          "base_uri": "https://localhost:8080/"
        },
        "id": "IGi3GXY8hMUe",
        "outputId": "19e841cd-f488-4849-ee97-0b766dd1ced0"
      },
      "execution_count": 3,
      "outputs": [
        {
          "output_type": "execute_result",
          "data": {
            "text/plain": [
              "72202"
            ]
          },
          "metadata": {},
          "execution_count": 3
        }
      ]
    },
    {
      "cell_type": "code",
      "source": [
        "from yaml import tokens\n",
        "from nltk.text import Text \n",
        "tb = Text(nltk.corpus.treebank.tagged_words(tagset='universal'))\n",
        "tb[:10]"
      ],
      "metadata": {
        "colab": {
          "base_uri": "https://localhost:8080/"
        },
        "id": "-UvnL3GTyitI",
        "outputId": "66e3224f-43b0-46c0-aa8f-c80d8d5cd9a1"
      },
      "execution_count": 4,
      "outputs": [
        {
          "output_type": "execute_result",
          "data": {
            "text/plain": [
              "[('Pierre', 'NOUN'),\n",
              " ('Vinken', 'NOUN'),\n",
              " (',', '.'),\n",
              " ('61', 'NUM'),\n",
              " ('years', 'NOUN'),\n",
              " ('old', 'ADJ'),\n",
              " (',', '.'),\n",
              " ('will', 'VERB'),\n",
              " ('join', 'VERB'),\n",
              " ('the', 'DET')]"
            ]
          },
          "metadata": {},
          "execution_count": 4
        }
      ]
    },
    {
      "cell_type": "code",
      "source": [
        "DataSet = open('/content/drive/MyDrive/LrNK/test_text.txt', \"r\", encoding=\"utf-8\")\n",
        "text = DataSet.read()\n",
        "from nltk import word_tokenize\n",
        "nltk.download('punkt')\n",
        "text_tokens = word_tokenize(text)\n",
        "tt = Text(text_tokens[:10])\n",
        "print(type(text_tokens), len(text_tokens))\n",
        "text_tokens[:10]"
      ],
      "metadata": {
        "colab": {
          "base_uri": "https://localhost:8080/"
        },
        "id": "W8gblIgtE6fg",
        "outputId": "727a1d63-02e8-410d-93cb-6a22cdda28f7"
      },
      "execution_count": 5,
      "outputs": [
        {
          "output_type": "stream",
          "name": "stderr",
          "text": [
            "[nltk_data] Downloading package punkt to /root/nltk_data...\n",
            "[nltk_data]   Unzipping tokenizers/punkt.zip.\n"
          ]
        },
        {
          "output_type": "stream",
          "name": "stdout",
          "text": [
            "<class 'list'> 1119\n"
          ]
        },
        {
          "output_type": "execute_result",
          "data": {
            "text/plain": [
              "['At', 'the', 'beginning', 'of', 'July', ',', 'at', 'an', 'extremely', 'hot']"
            ]
          },
          "metadata": {},
          "execution_count": 5
        }
      ]
    },
    {
      "cell_type": "code",
      "source": [
        "X = [] # store input sequence\n",
        "Y = [] # store output sequence\n",
        "\n",
        "for sentence in tagged_sentences:\n",
        "    X_sentence = []\n",
        "    Y_sentence = []\n",
        "    for entity in sentence:         \n",
        "        X_sentence.append(entity[0])  # entity[0] contains the word\n",
        "        Y_sentence.append(entity[1])  # entity[1] contains corresponding tag\n",
        "        \n",
        "    X.append(X_sentence)\n",
        "    Y.append(Y_sentence)"
      ],
      "metadata": {
        "id": "DkquNABLgXBR"
      },
      "execution_count": 6,
      "outputs": []
    },
    {
      "cell_type": "code",
      "source": [
        "num_words = len(set([word.lower() for sentence in X for word in sentence]))\n",
        "num_tags   = len(set([word.lower() for sentence in Y for word in sentence]))"
      ],
      "metadata": {
        "id": "Kp-CyeUegY9z"
      },
      "execution_count": 7,
      "outputs": []
    },
    {
      "cell_type": "code",
      "source": [
        "print(\"Total number of tagged sentences: {}\".format(len(X)))\n",
        "print(\"Vocabulary size: {}\".format(num_words))\n",
        "print(\"Total number of tags: {}\".format(num_tags))"
      ],
      "metadata": {
        "colab": {
          "base_uri": "https://localhost:8080/"
        },
        "id": "hsvvCPVqgauU",
        "outputId": "e23c423e-1c0d-4cb3-dcac-7abe47a5f370"
      },
      "execution_count": 8,
      "outputs": [
        {
          "output_type": "stream",
          "name": "stdout",
          "text": [
            "Total number of tagged sentences: 72202\n",
            "Vocabulary size: 59448\n",
            "Total number of tags: 12\n"
          ]
        }
      ]
    },
    {
      "cell_type": "code",
      "source": [
        "print('sample X: ', X[0], '\\n')\n",
        "print('sample Y: ', Y[0], '\\n')"
      ],
      "metadata": {
        "colab": {
          "base_uri": "https://localhost:8080/"
        },
        "id": "vi_P2Ocngama",
        "outputId": "07a3aa66-f67c-4d44-bd5f-8352d94c7aba"
      },
      "execution_count": 9,
      "outputs": [
        {
          "output_type": "stream",
          "name": "stdout",
          "text": [
            "sample X:  ['The', 'Fulton', 'County', 'Grand', 'Jury', 'said', 'Friday', 'an', 'investigation', 'of', \"Atlanta's\", 'recent', 'primary', 'election', 'produced', '``', 'no', 'evidence', \"''\", 'that', 'any', 'irregularities', 'took', 'place', '.'] \n",
            "\n",
            "sample Y:  ['DET', 'NOUN', 'NOUN', 'ADJ', 'NOUN', 'VERB', 'NOUN', 'DET', 'NOUN', 'ADP', 'NOUN', 'ADJ', 'NOUN', 'NOUN', 'VERB', '.', 'DET', 'NOUN', '.', 'ADP', 'DET', 'NOUN', 'VERB', 'NOUN', '.'] \n",
            "\n"
          ]
        }
      ]
    },
    {
      "cell_type": "code",
      "source": [
        "print(\"Length of first input sequence  : {}\".format(len(X[0])))\n",
        "print(\"Length of first output sequence : {}\".format(len(Y[0])))"
      ],
      "metadata": {
        "colab": {
          "base_uri": "https://localhost:8080/"
        },
        "id": "lBUbMefugdRT",
        "outputId": "92a826ed-8fc1-44c8-ff73-7e0e15184fbd"
      },
      "execution_count": 10,
      "outputs": [
        {
          "output_type": "stream",
          "name": "stdout",
          "text": [
            "Length of first input sequence  : 25\n",
            "Length of first output sequence : 25\n"
          ]
        }
      ]
    },
    {
      "cell_type": "code",
      "source": [
        "word_tokenizer = Tokenizer()                      \n",
        "word_tokenizer.fit_on_texts(X)                  \n",
        "X_encoded = word_tokenizer.texts_to_sequences(X)"
      ],
      "metadata": {
        "id": "PmftGsWSghQI"
      },
      "execution_count": 11,
      "outputs": []
    },
    {
      "cell_type": "code",
      "source": [
        "tag_tokenizer = Tokenizer()\n",
        "tag_tokenizer.fit_on_texts(Y)\n",
        "Y_encoded = tag_tokenizer.texts_to_sequences(Y)"
      ],
      "metadata": {
        "id": "3Zln_UJIgk13"
      },
      "execution_count": 12,
      "outputs": []
    },
    {
      "cell_type": "code",
      "source": [
        "print(\"** Raw data point **\", \"\\n\", \"-\"*100, \"\\n\")\n",
        "print('X: ', X[0], '\\n')\n",
        "print('Y: ', Y[0], '\\n')\n",
        "print()\n",
        "print(\"** Encoded data point **\", \"\\n\", \"-\"*100, \"\\n\")\n",
        "print('X: ', X_encoded[0], '\\n')\n",
        "print('Y: ', Y_encoded[0], '\\n')"
      ],
      "metadata": {
        "colab": {
          "base_uri": "https://localhost:8080/"
        },
        "id": "2hcY496RgnH5",
        "outputId": "7608c133-1096-4ddb-dc56-f899474b02eb"
      },
      "execution_count": 13,
      "outputs": [
        {
          "output_type": "stream",
          "name": "stdout",
          "text": [
            "** Raw data point ** \n",
            " ---------------------------------------------------------------------------------------------------- \n",
            "\n",
            "X:  ['The', 'Fulton', 'County', 'Grand', 'Jury', 'said', 'Friday', 'an', 'investigation', 'of', \"Atlanta's\", 'recent', 'primary', 'election', 'produced', '``', 'no', 'evidence', \"''\", 'that', 'any', 'irregularities', 'took', 'place', '.'] \n",
            "\n",
            "Y:  ['DET', 'NOUN', 'NOUN', 'ADJ', 'NOUN', 'VERB', 'NOUN', 'DET', 'NOUN', 'ADP', 'NOUN', 'ADJ', 'NOUN', 'NOUN', 'VERB', '.', 'DET', 'NOUN', '.', 'ADP', 'DET', 'NOUN', 'VERB', 'NOUN', '.'] \n",
            "\n",
            "\n",
            "** Encoded data point ** \n",
            " ---------------------------------------------------------------------------------------------------- \n",
            "\n",
            "X:  [1, 5731, 778, 2326, 1842, 39, 853, 34, 1944, 4, 16831, 379, 1343, 1523, 1116, 12, 67, 569, 14, 9, 89, 10208, 252, 205, 3] \n",
            "\n",
            "Y:  [5, 1, 1, 6, 1, 2, 1, 5, 1, 4, 1, 6, 1, 1, 2, 3, 5, 1, 3, 4, 5, 1, 2, 1, 3] \n",
            "\n"
          ]
        }
      ]
    },
    {
      "cell_type": "code",
      "source": [
        "different_length = [1 if len(input) != len(output) else 0 for input, output in zip(X_encoded, Y_encoded)]\n",
        "print(\"{} sentences have disparate input-output lengths.\".format(sum(different_length)))"
      ],
      "metadata": {
        "colab": {
          "base_uri": "https://localhost:8080/"
        },
        "id": "ryViHEGugpiC",
        "outputId": "2b2f592d-4c22-404e-f915-b3fb703bdb52"
      },
      "execution_count": 14,
      "outputs": [
        {
          "output_type": "stream",
          "name": "stdout",
          "text": [
            "0 sentences have disparate input-output lengths.\n"
          ]
        }
      ]
    },
    {
      "cell_type": "code",
      "source": [
        "lengths = [len(seq) for seq in X_encoded]\n",
        "print(\"Length of longest sentence: {}\".format(max(lengths)))"
      ],
      "metadata": {
        "colab": {
          "base_uri": "https://localhost:8080/"
        },
        "id": "gpTGdpy_grqS",
        "outputId": "5148a5dc-272a-45ee-940f-b2c8dca0a1fe"
      },
      "execution_count": 15,
      "outputs": [
        {
          "output_type": "stream",
          "name": "stdout",
          "text": [
            "Length of longest sentence: 271\n"
          ]
        }
      ]
    },
    {
      "cell_type": "code",
      "source": [
        "sns.boxplot(lengths)\n",
        "plt.show()"
      ],
      "metadata": {
        "colab": {
          "base_uri": "https://localhost:8080/",
          "height": 265
        },
        "id": "lYEMO9Hxgtyb",
        "outputId": "d50df8c0-0af8-4e11-fb3d-3fe5528581ba"
      },
      "execution_count": 16,
      "outputs": [
        {
          "output_type": "display_data",
          "data": {
            "text/plain": [
              "<Figure size 432x288 with 1 Axes>"
            ],
            "image/png": "[encoded data removed]"
          },
          "metadata": {
            "needs_background": "light"
          }
        }
      ]
    },
    {
      "cell_type": "code",
      "source": [
        "MAX_SEQ_LENGTH = 100  # sequences greater than 100 in length will be truncated\n",
        "\n",
        "X_padded = pad_sequences(X_encoded, maxlen=MAX_SEQ_LENGTH, padding=\"pre\", truncating=\"post\")\n",
        "Y_padded = pad_sequences(Y_encoded, maxlen=MAX_SEQ_LENGTH, padding=\"pre\", truncating=\"post\")"
      ],
      "metadata": {
        "id": "MutaGDD1gweR"
      },
      "execution_count": 17,
      "outputs": []
    },
    {
      "cell_type": "code",
      "source": [
        "print(X_padded[0], \"\\n\"*3)\n",
        "print(Y_padded[0])"
      ],
      "metadata": {
        "colab": {
          "base_uri": "https://localhost:8080/"
        },
        "id": "2lUYguUfgyZw",
        "outputId": "35ad7341-1ddc-4f73-acfe-fd394d7683d6"
      },
      "execution_count": 18,
      "outputs": [
        {
          "output_type": "stream",
          "name": "stdout",
          "text": [
            "[    0     0     0     0     0     0     0     0     0     0     0     0\n",
            "     0     0     0     0     0     0     0     0     0     0     0     0\n",
            "     0     0     0     0     0     0     0     0     0     0     0     0\n",
            "     0     0     0     0     0     0     0     0     0     0     0     0\n",
            "     0     0     0     0     0     0     0     0     0     0     0     0\n",
            "     0     0     0     0     0     0     0     0     0     0     0     0\n",
            "     0     0     0     1  5731   778  2326  1842    39   853    34  1944\n",
            "     4 16831   379  1343  1523  1116    12    67   569    14     9    89\n",
            " 10208   252   205     3] \n",
            "\n",
            "\n",
            "\n",
            "[0 0 0 0 0 0 0 0 0 0 0 0 0 0 0 0 0 0 0 0 0 0 0 0 0 0 0 0 0 0 0 0 0 0 0 0 0\n",
            " 0 0 0 0 0 0 0 0 0 0 0 0 0 0 0 0 0 0 0 0 0 0 0 0 0 0 0 0 0 0 0 0 0 0 0 0 0\n",
            " 0 5 1 1 6 1 2 1 5 1 4 1 6 1 1 2 3 5 1 3 4 5 1 2 1 3]\n"
          ]
        }
      ]
    },
    {
      "cell_type": "code",
      "source": [
        "X, Y = X_padded, Y_padded"
      ],
      "metadata": {
        "id": "NZMdUIewg1FQ"
      },
      "execution_count": 19,
      "outputs": []
    },
    {
      "cell_type": "code",
      "source": [
        "path = \"/content/drive/MyDrive/LrNK/GoogleNews-vectors-negative300.bin\"\n",
        "word2vec = KeyedVectors.load_word2vec_format(path, binary=True,limit =100000)"
      ],
      "metadata": {
        "id": "WhnZ0T2nqXVQ"
      },
      "execution_count": 20,
      "outputs": []
    },
    {
      "cell_type": "code",
      "source": [
        "word2vec.most_similar(positive = [\"King\", \"Woman\"], negative = [\"Man\"])"
      ],
      "metadata": {
        "colab": {
          "base_uri": "https://localhost:8080/"
        },
        "id": "t78LFTI9qZh0",
        "outputId": "4fac26e3-fc03-40ad-b46c-907a78d06f30"
      },
      "execution_count": 21,
      "outputs": [
        {
          "output_type": "execute_result",
          "data": {
            "text/plain": [
              "[('Queen', 0.4929388165473938),\n",
              " ('Jackson', 0.440250426530838),\n",
              " ('Whitfield', 0.42834725975990295),\n",
              " ('queen', 0.4105675220489502),\n",
              " ('Queen_Elizabeth', 0.4070027768611908),\n",
              " ('monarch', 0.40330177545547485),\n",
              " ('Greene', 0.40265092253685),\n",
              " ('Martin_Luther_King', 0.4011157751083374),\n",
              " ('Spalding', 0.4005321264266968),\n",
              " ('Prince', 0.39318087697029114)]"
            ]
          },
          "metadata": {},
          "execution_count": 21
        }
      ]
    },
    {
      "cell_type": "code",
      "source": [
        "EMBEDDING_SIZE  = 300  # each word in word2vec model is represented using a 300 dimensional vector\n",
        "VOCABULARY_SIZE = len(word_tokenizer.word_index) + 1\n",
        "\n",
        "# create an empty embedding matix\n",
        "embedding_weights = np.zeros((VOCABULARY_SIZE, EMBEDDING_SIZE))\n",
        "\n",
        "# create a word to index dictionary mapping\n",
        "word2id = word_tokenizer.word_index\n",
        "\n",
        "# copy vectors from word2vec model to the words present in corpus\n",
        "for word, index in word2id.items():\n",
        "    try:\n",
        "        embedding_weights[index, :] = word2vec[word]\n",
        "    except KeyError:\n",
        "        pass"
      ],
      "metadata": {
        "id": "YYlYG1s3qcMl"
      },
      "execution_count": 22,
      "outputs": []
    },
    {
      "cell_type": "code",
      "source": [
        "print(\"Embeddings shape: {}\".format(embedding_weights.shape))"
      ],
      "metadata": {
        "colab": {
          "base_uri": "https://localhost:8080/"
        },
        "id": "2kX_OVXshW1g",
        "outputId": "1ae11c33-c09c-4457-e39c-2d73accf366f"
      },
      "execution_count": 23,
      "outputs": [
        {
          "output_type": "stream",
          "name": "stdout",
          "text": [
            "Embeddings shape: (59449, 300)\n"
          ]
        }
      ]
    },
    {
      "cell_type": "code",
      "source": [
        "embedding_weights[word_tokenizer.word_index['joy']]"
      ],
      "metadata": {
        "colab": {
          "base_uri": "https://localhost:8080/"
        },
        "id": "8TK84vehhYs8",
        "outputId": "e16a4f3c-8880-46b8-e1df-77b49f02832a"
      },
      "execution_count": 24,
      "outputs": [
        {
          "output_type": "execute_result",
          "data": {
            "text/plain": [
              "array([ 0.4453125 , -0.20019531,  0.20019531, -0.03149414,  0.078125  ,\n",
              "       -0.390625  ,  0.13671875, -0.13867188,  0.05395508,  0.10546875,\n",
              "       -0.05029297, -0.23730469,  0.19921875,  0.12597656, -0.12695312,\n",
              "        0.34179688,  0.06347656,  0.26757812, -0.07324219, -0.29101562,\n",
              "        0.10498047,  0.11914062,  0.23730469,  0.00640869,  0.12451172,\n",
              "       -0.00939941, -0.02770996,  0.03076172,  0.07421875, -0.22851562,\n",
              "       -0.08056641, -0.05273438,  0.16894531,  0.19824219, -0.15625   ,\n",
              "       -0.08740234,  0.10742188, -0.07177734,  0.05200195,  0.25976562,\n",
              "        0.171875  , -0.13574219,  0.06738281,  0.00531006,  0.15527344,\n",
              "       -0.03515625,  0.08789062,  0.3359375 , -0.12890625,  0.17578125,\n",
              "       -0.08642578,  0.32421875, -0.09033203,  0.35351562,  0.24316406,\n",
              "       -0.07470703, -0.06640625, -0.17578125,  0.06689453, -0.03833008,\n",
              "        0.0100708 , -0.21484375, -0.03686523,  0.04394531,  0.02209473,\n",
              "        0.00219727, -0.22460938,  0.03015137, -0.21582031,  0.16015625,\n",
              "        0.23339844, -0.16699219, -0.09228516,  0.10644531,  0.19335938,\n",
              "       -0.26757812,  0.15722656, -0.08691406,  0.11181641,  0.14941406,\n",
              "       -0.20507812,  0.04882812, -0.07519531, -0.21582031, -0.10107422,\n",
              "       -0.13378906, -0.06103516,  0.05444336,  0.07470703,  0.09521484,\n",
              "       -0.0144043 ,  0.27929688, -0.25585938, -0.05273438, -0.22460938,\n",
              "        0.10253906, -0.15136719,  0.21289062, -0.04711914, -0.12109375,\n",
              "        0.04663086,  0.25976562,  0.13574219,  0.00799561,  0.02001953,\n",
              "        0.1796875 ,  0.30664062,  0.06152344,  0.13574219, -0.09619141,\n",
              "       -0.07421875,  0.38671875,  0.20800781,  0.12695312,  0.05200195,\n",
              "        0.17675781, -0.16796875, -0.19335938, -0.06152344, -0.07568359,\n",
              "       -0.18457031,  0.06030273, -0.15136719, -0.1953125 , -0.23339844,\n",
              "        0.00738525, -0.02478027, -0.09765625, -0.06054688,  0.20214844,\n",
              "       -0.2734375 ,  0.00595093, -0.34570312, -0.12988281,  0.00418091,\n",
              "        0.09960938,  0.0246582 ,  0.15917969, -0.02038574,  0.30273438,\n",
              "       -0.20800781, -0.20214844, -0.03930664, -0.06494141,  0.00436401,\n",
              "       -0.02270508, -0.171875  ,  0.30273438, -0.16113281, -0.49414062,\n",
              "        0.3515625 ,  0.39257812,  0.09814453,  0.41796875,  0.05371094,\n",
              "        0.02392578, -0.03710938, -0.08251953, -0.38671875, -0.40625   ,\n",
              "       -0.05664062,  0.203125  , -0.01782227,  0.3359375 ,  0.19140625,\n",
              "       -0.44335938,  0.00927734,  0.24804688, -0.05102539,  0.19726562,\n",
              "        0.03881836,  0.03442383, -0.40039062, -0.09912109, -0.07128906,\n",
              "        0.21484375, -0.01422119,  0.04907227, -0.07421875, -0.21582031,\n",
              "       -0.41992188,  0.02172852,  0.11083984, -0.33398438, -0.2734375 ,\n",
              "       -0.05322266, -0.16601562, -0.28515625, -0.12207031,  0.04882812,\n",
              "       -0.0625    , -0.04077148, -0.16503906,  0.0480957 , -0.21191406,\n",
              "        0.20019531, -0.2109375 ,  0.10839844, -0.14648438, -0.07958984,\n",
              "       -0.05151367, -0.16601562, -0.24902344, -0.375     ,  0.05664062,\n",
              "       -0.13671875, -0.2578125 ,  0.28515625, -0.04736328,  0.13574219,\n",
              "       -0.14550781,  0.19433594, -0.21972656,  0.08447266, -0.10791016,\n",
              "       -0.11816406, -0.16015625,  0.12060547, -0.10888672,  0.04345703,\n",
              "        0.11474609, -0.08447266, -0.00720215,  0.03662109, -0.38671875,\n",
              "       -0.03881836, -0.03198242,  0.00344849,  0.22558594, -0.06787109,\n",
              "       -0.16699219,  0.2421875 ,  0.05712891,  0.27539062, -0.0456543 ,\n",
              "       -0.19042969, -0.17285156,  0.00836182, -0.03271484,  0.16992188,\n",
              "       -0.18554688, -0.0703125 , -0.32617188, -0.00668335, -0.02770996,\n",
              "        0.3359375 ,  0.125     , -0.2109375 ,  0.06005859, -0.07080078,\n",
              "        0.11132812,  0.125     ,  0.25390625,  0.29296875, -0.03125   ,\n",
              "        0.09033203, -0.20507812, -0.07861328,  0.02062988, -0.0546875 ,\n",
              "       -0.23339844,  0.00096893, -0.04516602,  0.16894531, -0.22167969,\n",
              "        0.08105469,  0.33398438,  0.09619141,  0.00866699, -0.03271484,\n",
              "        0.05493164,  0.12109375,  0.16210938, -0.10302734,  0.27148438,\n",
              "       -0.03344727, -0.30273438,  0.04223633,  0.08496094, -0.15527344,\n",
              "        0.10107422, -0.11474609, -0.13085938,  0.22949219,  0.12988281,\n",
              "        0.09863281, -0.03588867,  0.10693359, -0.24902344,  0.19238281,\n",
              "       -0.05322266, -0.09033203, -0.31640625, -0.5703125 , -0.15917969,\n",
              "        0.0291748 , -0.0246582 , -0.07714844, -0.04663086, -0.17578125])"
            ]
          },
          "metadata": {},
          "execution_count": 24
        }
      ]
    },
    {
      "cell_type": "code",
      "source": [
        "Y = to_categorical(Y)"
      ],
      "metadata": {
        "id": "lox4RRGnhaqr"
      },
      "execution_count": 25,
      "outputs": []
    },
    {
      "cell_type": "code",
      "source": [
        "print(Y.shape)"
      ],
      "metadata": {
        "colab": {
          "base_uri": "https://localhost:8080/"
        },
        "id": "HIzLx1UthdDx",
        "outputId": "33be628b-359a-44c2-f587-979c1c7da713"
      },
      "execution_count": 26,
      "outputs": [
        {
          "output_type": "stream",
          "name": "stdout",
          "text": [
            "(72202, 100, 13)\n"
          ]
        }
      ]
    },
    {
      "cell_type": "code",
      "source": [
        "TEST_SIZE = 0.15\n",
        "X_train, X_test, Y_train, Y_test = train_test_split(X, Y, test_size=TEST_SIZE, random_state=4)"
      ],
      "metadata": {
        "id": "3oF3r1LQhgMS"
      },
      "execution_count": 27,
      "outputs": []
    },
    {
      "cell_type": "code",
      "source": [
        "VALID_SIZE = 0.15\n",
        "X_train, X_validation, Y_train, Y_validation = train_test_split(X_train, Y_train, test_size=VALID_SIZE, random_state=4)"
      ],
      "metadata": {
        "id": "et0vwsJshoRJ"
      },
      "execution_count": 28,
      "outputs": []
    },
    {
      "cell_type": "code",
      "source": [
        "print(\"TRAINING DATA\")\n",
        "print('Shape of input sequences: {}'.format(X_train.shape))\n",
        "print('Shape of output sequences: {}'.format(Y_train.shape))\n",
        "print(\"-\"*50)\n",
        "print(\"VALIDATION DATA\")\n",
        "print('Shape of input sequences: {}'.format(X_validation.shape))\n",
        "print('Shape of output sequences: {}'.format(Y_validation.shape))\n",
        "print(\"-\"*50)\n",
        "print(\"TESTING DATA\")\n",
        "print('Shape of input sequences: {}'.format(X_test.shape))\n",
        "print('Shape of output sequences: {}'.format(Y_test.shape))"
      ],
      "metadata": {
        "colab": {
          "base_uri": "https://localhost:8080/"
        },
        "id": "lsjjW9wRhqJJ",
        "outputId": "ba32f890-e5b0-4b2f-81c0-018b93edb858"
      },
      "execution_count": 29,
      "outputs": [
        {
          "output_type": "stream",
          "name": "stdout",
          "text": [
            "TRAINING DATA\n",
            "Shape of input sequences: (52165, 100)\n",
            "Shape of output sequences: (52165, 100, 13)\n",
            "--------------------------------------------------\n",
            "VALIDATION DATA\n",
            "Shape of input sequences: (9206, 100)\n",
            "Shape of output sequences: (9206, 100, 13)\n",
            "--------------------------------------------------\n",
            "TESTING DATA\n",
            "Shape of input sequences: (10831, 100)\n",
            "Shape of output sequences: (10831, 100, 13)\n"
          ]
        }
      ]
    },
    {
      "cell_type": "code",
      "source": [
        "NUM_CLASSES = Y.shape[2]"
      ],
      "metadata": {
        "id": "R4i4wLHuhueU"
      },
      "execution_count": 30,
      "outputs": []
    },
    {
      "cell_type": "code",
      "source": [
        "rnn_model = Sequential()\n",
        "\n",
        "# create embedding layer - usually the first layer in text problems\n",
        "rnn_model.add(Embedding(input_dim     =  VOCABULARY_SIZE,         # vocabulary size - number of unique words in data\n",
        "                        output_dim    =  EMBEDDING_SIZE,          # length of vector with which each word is represented\n",
        "                        input_length  =  MAX_SEQ_LENGTH,          # length of input sequence\n",
        "                        trainable     =  False                    # False - don't update the embeddings\n",
        "))\n",
        "\n",
        "# add an RNN layer which contains 64 RNN cells\n",
        "rnn_model.add(SimpleRNN(64, \n",
        "              return_sequences=True  # True - return whole sequence; False - return single output of the end of the sequence\n",
        "))\n",
        "\n",
        "# add time distributed (output at each sequence) layer\n",
        "rnn_model.add(TimeDistributed(Dense(NUM_CLASSES, activation='softmax')))"
      ],
      "metadata": {
        "id": "ILZ3CQCjhwer"
      },
      "execution_count": 31,
      "outputs": []
    },
    {
      "cell_type": "code",
      "source": [
        "rnn_model.compile(loss      =  'categorical_crossentropy',\n",
        "                  optimizer =  'adam',\n",
        "                  metrics   =  ['acc'])"
      ],
      "metadata": {
        "id": "rbseIxgahzAh"
      },
      "execution_count": 32,
      "outputs": []
    },
    {
      "cell_type": "code",
      "source": [
        "rnn_model.summary()"
      ],
      "metadata": {
        "colab": {
          "base_uri": "https://localhost:8080/"
        },
        "id": "WAh-ApWbh0m5",
        "outputId": "e2b147a1-54c2-4bdc-fbb1-3b7f99089121"
      },
      "execution_count": 33,
      "outputs": [
        {
          "output_type": "stream",
          "name": "stdout",
          "text": [
            "Model: \"sequential\"\n",
            "_________________________________________________________________\n",
            " Layer (type)                Output Shape              Param #   \n",
            "=================================================================\n",
            " embedding (Embedding)       (None, 100, 300)          17834700  \n",
            "                                                                 \n",
            " simple_rnn (SimpleRNN)      (None, 100, 64)           23360     \n",
            "                                                                 \n",
            " time_distributed (TimeDistr  (None, 100, 13)          845       \n",
            " ibuted)                                                         \n",
            "                                                                 \n",
            "=================================================================\n",
            "Total params: 17,858,905\n",
            "Trainable params: 24,205\n",
            "Non-trainable params: 17,834,700\n",
            "_________________________________________________________________\n"
          ]
        }
      ]
    },
    {
      "cell_type": "code",
      "source": [
        "rnn_training = rnn_model.fit(X_train, Y_train, batch_size=128, epochs=10, validation_data=(X_validation, Y_validation))"
      ],
      "metadata": {
        "colab": {
          "base_uri": "https://localhost:8080/"
        },
        "id": "bwMId--_h5tv",
        "outputId": "b34d3921-0621-402b-a08a-572fb2cde7b7"
      },
      "execution_count": 34,
      "outputs": [
        {
          "output_type": "stream",
          "name": "stdout",
          "text": [
            "Epoch 1/10\n",
            "408/408 [==============================] - 38s 90ms/step - loss: 0.5063 - acc: 0.8555 - val_loss: 0.3431 - val_acc: 0.8979\n",
            "Epoch 2/10\n",
            "408/408 [==============================] - 38s 94ms/step - loss: 0.2779 - acc: 0.9163 - val_loss: 0.2317 - val_acc: 0.9304\n",
            "Epoch 3/10\n",
            "408/408 [==============================] - 38s 93ms/step - loss: 0.2061 - acc: 0.9361 - val_loss: 0.1876 - val_acc: 0.9407\n",
            "Epoch 4/10\n",
            "408/408 [==============================] - 36s 89ms/step - loss: 0.1739 - acc: 0.9441 - val_loss: 0.1642 - val_acc: 0.9468\n",
            "Epoch 5/10\n",
            "408/408 [==============================] - 36s 89ms/step - loss: 0.1552 - acc: 0.9493 - val_loss: 0.1494 - val_acc: 0.9509\n",
            "Epoch 6/10\n",
            "408/408 [==============================] - 36s 89ms/step - loss: 0.1430 - acc: 0.9528 - val_loss: 0.1396 - val_acc: 0.9539\n",
            "Epoch 7/10\n",
            "408/408 [==============================] - 36s 89ms/step - loss: 0.1347 - acc: 0.9551 - val_loss: 0.1327 - val_acc: 0.9554\n",
            "Epoch 8/10\n",
            "408/408 [==============================] - 37s 90ms/step - loss: 0.1289 - acc: 0.9567 - val_loss: 0.1280 - val_acc: 0.9571\n",
            "Epoch 9/10\n",
            "408/408 [==============================] - 36s 89ms/step - loss: 0.1247 - acc: 0.9580 - val_loss: 0.1243 - val_acc: 0.9580\n",
            "Epoch 10/10\n",
            "408/408 [==============================] - 37s 90ms/step - loss: 0.1214 - acc: 0.9589 - val_loss: 0.1215 - val_acc: 0.9590\n"
          ]
        }
      ]
    },
    {
      "cell_type": "code",
      "source": [
        "plt.plot(rnn_training.history['acc'])\n",
        "plt.plot(rnn_training.history['val_acc'])\n",
        "plt.title('model accuracy')\n",
        "plt.ylabel('accuracy')\n",
        "plt.xlabel('epoch')\n",
        "plt.legend(['train', 'test'], loc=\"lower right\")\n",
        "plt.show()"
      ],
      "metadata": {
        "colab": {
          "base_uri": "https://localhost:8080/",
          "height": 295
        },
        "id": "C04p1Wleh7i3",
        "outputId": "1a3ab1f7-4f3a-4e22-c30f-8e6733a5f114"
      },
      "execution_count": 35,
      "outputs": [
        {
          "output_type": "display_data",
          "data": {
            "text/plain": [
              "<Figure size 432x288 with 1 Axes>"
            ],
            "image/png": "[encoded data removed]"
          },
          "metadata": {
            "needs_background": "light"
          }
        }
      ]
    },
    {
      "cell_type": "code",
      "source": [
        "loss = rnn_training.history['acc']\n",
        "val_loss = rnn_training.history['val_acc']"
      ],
      "metadata": {
        "id": "q6yXR5ke2xP6"
      },
      "execution_count": 36,
      "outputs": []
    },
    {
      "cell_type": "code",
      "source": [
        "loss\n",
        "val_loss"
      ],
      "metadata": {
        "colab": {
          "base_uri": "https://localhost:8080/"
        },
        "id": "huLvIGJm3IKA",
        "outputId": "1d7531b2-5666-46de-cbde-0e449bc7c91f"
      },
      "execution_count": 37,
      "outputs": [
        {
          "output_type": "execute_result",
          "data": {
            "text/plain": [
              "[0.8978774547576904,\n",
              " 0.9304236173629761,\n",
              " 0.9406582713127136,\n",
              " 0.9468249082565308,\n",
              " 0.9509254693984985,\n",
              " 0.9538659453392029,\n",
              " 0.9554312229156494,\n",
              " 0.9571018815040588,\n",
              " 0.9580339193344116,\n",
              " 0.9589636921882629]"
            ]
          },
          "metadata": {},
          "execution_count": 37
        }
      ]
    },
    {
      "cell_type": "markdown",
      "source": [
        "||\\\\\\\\"
      ],
      "metadata": {
        "id": "cIt84KxjNbKh"
      }
    },
    {
      "cell_type": "code",
      "source": [
        "import tensorflow as tf\n",
        "rnn_model_t1 = Sequential()\n",
        "\n",
        "# create embedding layer - usually the first layer in text problems\n",
        "rnn_model_t1.add(Embedding(input_dim     =  VOCABULARY_SIZE,         # vocabulary size - number of unique words in data\n",
        "                        output_dim    =  EMBEDDING_SIZE,          # length of vector with which each word is represented\n",
        "                        input_length  =  MAX_SEQ_LENGTH,          # length of input sequence\n",
        "                        trainable     =  False                    # False - don't update the embeddings\n",
        "))\n",
        "\n",
        "# add an RNN layer which contains 64 RNN cells\n",
        "rnn_model_t1.add(SimpleRNN(64, \n",
        "              return_sequences=True  # True - return whole sequence; False - return single output of the end of the sequence\n",
        "))\n",
        "\n",
        "# add time distributed (output at each sequence) layer\n",
        "rnn_model_t1.add(TimeDistributed(Dense(NUM_CLASSES, activation='softmax')))\n",
        "optimizer = tf.keras.optimizers.Adam(learning_rate=0.0001)"
      ],
      "metadata": {
        "id": "rfLDMdnfMUe5"
      },
      "execution_count": 38,
      "outputs": []
    },
    {
      "cell_type": "code",
      "source": [
        "rnn_model_t1.compile(loss      =  'categorical_crossentropy',\n",
        "                  optimizer =  optimizer,\n",
        "                  metrics   =  ['acc'])"
      ],
      "metadata": {
        "id": "AsnRW8k6MZPB"
      },
      "execution_count": 39,
      "outputs": []
    },
    {
      "cell_type": "code",
      "source": [
        "rnn_model_t1.summary()"
      ],
      "metadata": {
        "colab": {
          "base_uri": "https://localhost:8080/"
        },
        "id": "qSyaUm5GMfLP",
        "outputId": "716988c1-c5a6-4e63-db66-14d5ff8562d4"
      },
      "execution_count": 40,
      "outputs": [
        {
          "output_type": "stream",
          "name": "stdout",
          "text": [
            "Model: \"sequential_1\"\n",
            "_________________________________________________________________\n",
            " Layer (type)                Output Shape              Param #   \n",
            "=================================================================\n",
            " embedding_1 (Embedding)     (None, 100, 300)          17834700  \n",
            "                                                                 \n",
            " simple_rnn_1 (SimpleRNN)    (None, 100, 64)           23360     \n",
            "                                                                 \n",
            " time_distributed_1 (TimeDis  (None, 100, 13)          845       \n",
            " tributed)                                                       \n",
            "                                                                 \n",
            "=================================================================\n",
            "Total params: 17,858,905\n",
            "Trainable params: 24,205\n",
            "Non-trainable params: 17,834,700\n",
            "_________________________________________________________________\n"
          ]
        }
      ]
    },
    {
      "cell_type": "code",
      "source": [
        "rnn_training_t1 = rnn_model_t1.fit(X_train, Y_train, batch_size=128, epochs=5, validation_data=(X_validation, Y_validation))"
      ],
      "metadata": {
        "colab": {
          "base_uri": "https://localhost:8080/"
        },
        "id": "nS2ZFJSSMlI5",
        "outputId": "6750e5fa-163a-46cb-cc5a-a62dfe0a738e"
      },
      "execution_count": 41,
      "outputs": [
        {
          "output_type": "stream",
          "name": "stdout",
          "text": [
            "Epoch 1/5\n",
            "408/408 [==============================] - 37s 88ms/step - loss: 0.9388 - acc: 0.7975 - val_loss: 0.6213 - val_acc: 0.8311\n",
            "Epoch 2/5\n",
            "408/408 [==============================] - 38s 92ms/step - loss: 0.5593 - acc: 0.8352 - val_loss: 0.5235 - val_acc: 0.8356\n",
            "Epoch 3/5\n",
            "408/408 [==============================] - 36s 89ms/step - loss: 0.4945 - acc: 0.8387 - val_loss: 0.4823 - val_acc: 0.8387\n",
            "Epoch 4/5\n",
            "408/408 [==============================] - 36s 89ms/step - loss: 0.4699 - acc: 0.8433 - val_loss: 0.4609 - val_acc: 0.8501\n",
            "Epoch 5/5\n",
            "408/408 [==============================] - 36s 89ms/step - loss: 0.4479 - acc: 0.8612 - val_loss: 0.4381 - val_acc: 0.8699\n"
          ]
        }
      ]
    },
    {
      "cell_type": "code",
      "source": [
        "plt.plot(rnn_training_t1.history['acc'])\n",
        "plt.plot(rnn_training_t1.history['val_acc'])\n",
        "plt.title('model accuracy')\n",
        "plt.ylabel('accuracy')\n",
        "plt.xlabel('epoch')\n",
        "plt.legend(['train', 'test'], loc=\"lower right\")\n",
        "plt.show()"
      ],
      "metadata": {
        "colab": {
          "base_uri": "https://localhost:8080/",
          "height": 295
        },
        "id": "-8qcg1O0MwEw",
        "outputId": "79e792c7-2ce7-4d9b-a92f-1e355d716fcc"
      },
      "execution_count": 42,
      "outputs": [
        {
          "output_type": "display_data",
          "data": {
            "text/plain": [
              "<Figure size 432x288 with 1 Axes>"
            ],
            "image/png": "[encoded data removed]"
          },
          "metadata": {
            "needs_background": "light"
          }
        }
      ]
    },
    {
      "cell_type": "code",
      "source": [
        "loss_t1 = rnn_training_t1.history['acc']\n",
        "val_loss_t1 = rnn_training_t1.history['val_acc']"
      ],
      "metadata": {
        "id": "4ISKA4yzM47W"
      },
      "execution_count": 43,
      "outputs": []
    },
    {
      "cell_type": "code",
      "source": [
        "loss_t1\n",
        "val_loss_t1"
      ],
      "metadata": {
        "colab": {
          "base_uri": "https://localhost:8080/"
        },
        "id": "CF-LbvaRNAwW",
        "outputId": "c9487791-52a5-4e37-b62b-71fcfae70a05"
      },
      "execution_count": 44,
      "outputs": [
        {
          "output_type": "execute_result",
          "data": {
            "text/plain": [
              "[0.8310526013374329,\n",
              " 0.8356441259384155,\n",
              " 0.8387041091918945,\n",
              " 0.8500836491584778,\n",
              " 0.86993807554245]"
            ]
          },
          "metadata": {},
          "execution_count": 44
        }
      ]
    },
    {
      "cell_type": "code",
      "source": [
        "rnn_model_t2 = Sequential()\n",
        "\n",
        "# create embedding layer - usually the first layer in text problems\n",
        "rnn_model_t2.add(Embedding(input_dim     =  VOCABULARY_SIZE,         # vocabulary size - number of unique words in data\n",
        "                        output_dim    =  EMBEDDING_SIZE,          # length of vector with which each word is represented\n",
        "                        input_length  =  MAX_SEQ_LENGTH,          # length of input sequence\n",
        "                        trainable     =  False                    # False - don't update the embeddings\n",
        "))\n",
        "\n",
        "# add an RNN layer which contains 64 RNN cells\n",
        "rnn_model_t2.add(SimpleRNN(64, \n",
        "              return_sequences=True  # True - return whole sequence; False - return single output of the end of the sequence\n",
        "))\n",
        "\n",
        "# add time distributed (output at each sequence) layer\n",
        "rnn_model_t2.add(TimeDistributed(Dense(NUM_CLASSES, activation='softmax')))"
      ],
      "metadata": {
        "id": "OusWecjjNGGO"
      },
      "execution_count": 45,
      "outputs": []
    },
    {
      "cell_type": "code",
      "source": [
        "rnn_model_t2.compile(loss      =  tf.losses.MeanSquaredError(),\n",
        "                  optimizer =  'adam',\n",
        "                  metrics   =  ['acc'])"
      ],
      "metadata": {
        "id": "6BKk-hAwNJtn"
      },
      "execution_count": 46,
      "outputs": []
    },
    {
      "cell_type": "code",
      "source": [
        "rnn_model_t2.summary()"
      ],
      "metadata": {
        "colab": {
          "base_uri": "https://localhost:8080/"
        },
        "id": "2acTEZq1NNTt",
        "outputId": "2d32e434-398e-401e-958d-7c494fa99dae"
      },
      "execution_count": 47,
      "outputs": [
        {
          "output_type": "stream",
          "name": "stdout",
          "text": [
            "Model: \"sequential_2\"\n",
            "_________________________________________________________________\n",
            " Layer (type)                Output Shape              Param #   \n",
            "=================================================================\n",
            " embedding_2 (Embedding)     (None, 100, 300)          17834700  \n",
            "                                                                 \n",
            " simple_rnn_2 (SimpleRNN)    (None, 100, 64)           23360     \n",
            "                                                                 \n",
            " time_distributed_2 (TimeDis  (None, 100, 13)          845       \n",
            " tributed)                                                       \n",
            "                                                                 \n",
            "=================================================================\n",
            "Total params: 17,858,905\n",
            "Trainable params: 24,205\n",
            "Non-trainable params: 17,834,700\n",
            "_________________________________________________________________\n"
          ]
        }
      ]
    },
    {
      "cell_type": "code",
      "source": [
        "rnn_training_t2 = rnn_model_t2.fit(X_train, Y_train, batch_size=64, epochs=5, validation_data=(X_validation, Y_validation))"
      ],
      "metadata": {
        "colab": {
          "base_uri": "https://localhost:8080/"
        },
        "id": "TuwjvnWXNQFF",
        "outputId": "0aa63afa-d37e-4dd0-c741-c1abcd333d96"
      },
      "execution_count": 48,
      "outputs": [
        {
          "output_type": "stream",
          "name": "stdout",
          "text": [
            "Epoch 1/5\n",
            "816/816 [==============================] - 43s 51ms/step - loss: 0.0120 - acc: 0.8856 - val_loss: 0.0078 - val_acc: 0.9278\n",
            "Epoch 2/5\n",
            "816/816 [==============================] - 41s 51ms/step - loss: 0.0066 - acc: 0.9387 - val_loss: 0.0059 - val_acc: 0.9457\n",
            "Epoch 3/5\n",
            "816/816 [==============================] - 42s 51ms/step - loss: 0.0055 - acc: 0.9499 - val_loss: 0.0052 - val_acc: 0.9532\n",
            "Epoch 4/5\n",
            "816/816 [==============================] - 42s 52ms/step - loss: 0.0050 - acc: 0.9553 - val_loss: 0.0049 - val_acc: 0.9565\n",
            "Epoch 5/5\n",
            "816/816 [==============================] - 42s 51ms/step - loss: 0.0048 - acc: 0.9578 - val_loss: 0.0047 - val_acc: 0.9575\n"
          ]
        }
      ]
    },
    {
      "cell_type": "code",
      "source": [
        "plt.plot(rnn_training_t2.history['acc'])\n",
        "plt.plot(rnn_training_t2.history['val_acc'])\n",
        "plt.title('model accuracy')\n",
        "plt.ylabel('accuracy')\n",
        "plt.xlabel('epoch')\n",
        "plt.legend(['train', 'test'], loc=\"lower right\")\n",
        "plt.show()"
      ],
      "metadata": {
        "colab": {
          "base_uri": "https://localhost:8080/",
          "height": 295
        },
        "id": "rcT1BZmSNXIo",
        "outputId": "c8d0c914-aaa2-4619-b4c9-cfa5853a8d8b"
      },
      "execution_count": 49,
      "outputs": [
        {
          "output_type": "display_data",
          "data": {
            "text/plain": [
              "<Figure size 432x288 with 1 Axes>"
            ],
            "image/png": "[encoded data removed]"
          },
          "metadata": {
            "needs_background": "light"
          }
        }
      ]
    },
    {
      "cell_type": "code",
      "source": [
        "loss_t2 = rnn_training_t2.history['acc']\n",
        "val_loss_t2 = rnn_training_t2.history['val_acc']"
      ],
      "metadata": {
        "id": "8_79gdzaNezx"
      },
      "execution_count": 50,
      "outputs": []
    },
    {
      "cell_type": "code",
      "source": [
        "loss_t2\n",
        "val_loss_t2"
      ],
      "metadata": {
        "colab": {
          "base_uri": "https://localhost:8080/"
        },
        "id": "GYnTS7vfNmQY",
        "outputId": "3398109b-9543-48ad-d7a4-da585d4d9998"
      },
      "execution_count": 51,
      "outputs": [
        {
          "output_type": "execute_result",
          "data": {
            "text/plain": [
              "[0.9277677536010742,\n",
              " 0.9457418918609619,\n",
              " 0.953154444694519,\n",
              " 0.9564892649650574,\n",
              " 0.9574527740478516]"
            ]
          },
          "metadata": {},
          "execution_count": 51
        }
      ]
    },
    {
      "cell_type": "code",
      "source": [
        "plt.plot(rnn_training_t1.history['acc'])\n",
        "plt.plot(rnn_training_t1.history['val_acc'])\n",
        "plt.plot(rnn_training_t2.history['acc'])\n",
        "plt.plot(rnn_training_t2.history['val_acc'])\n",
        "plt.plot(rnn_training.history['acc'])\n",
        "plt.plot(rnn_training.history['val_acc'])"
      ],
      "metadata": {
        "colab": {
          "base_uri": "https://localhost:8080/",
          "height": 282
        },
        "id": "USMgj3GJRQcj",
        "outputId": "9f962788-bdb6-481f-d88d-2e86a68abade"
      },
      "execution_count": 61,
      "outputs": [
        {
          "output_type": "execute_result",
          "data": {
            "text/plain": [
              "[<matplotlib.lines.Line2D at 0x7f89164d5a50>]"
            ]
          },
          "metadata": {},
          "execution_count": 61
        },
        {
          "output_type": "display_data",
          "data": {
            "text/plain": [
              "<Figure size 432x288 with 1 Axes>"
            ],
            "image/png": "[encoded data removed]"
          },
          "metadata": {
            "needs_background": "light"
          }
        }
      ]
    },
    {
      "cell_type": "markdown",
      "source": [
        "|||||\\\\"
      ],
      "metadata": {
        "id": "YMZbElpuNYsC"
      }
    },
    {
      "cell_type": "code",
      "source": [
        "rnn_model_t3 = Sequential()\n",
        "\n",
        "\n",
        "rnn_model_t3.add(Embedding(input_dim     =  VOCABULARY_SIZE,         \n",
        "                        output_dim    =  EMBEDDING_SIZE,          \n",
        "                        input_length  =  MAX_SEQ_LENGTH,          \n",
        "                        trainable     =  True                     \n",
        "))\n",
        "\n",
        "\n",
        "rnn_model_t3.add(SimpleRNN(64, \n",
        "              return_sequences=True  \n",
        "))\n",
        "\n",
        "rnn_model_t3.add(TimeDistributed(Dense(NUM_CLASSES, activation='softmax')))"
      ],
      "metadata": {
        "id": "f3kVzoSoh-HK"
      },
      "execution_count": 53,
      "outputs": []
    },
    {
      "cell_type": "code",
      "source": [
        "rnn_model_t3.compile(loss      =  'categorical_crossentropy',\n",
        "                  optimizer =  'adam',\n",
        "                  metrics   =  ['acc'])"
      ],
      "metadata": {
        "id": "FtQ_ccKqiAEZ"
      },
      "execution_count": 54,
      "outputs": []
    },
    {
      "cell_type": "code",
      "source": [
        "rnn_model_t3.summary()"
      ],
      "metadata": {
        "colab": {
          "base_uri": "https://localhost:8080/"
        },
        "id": "QIA3bqqfiJ_o",
        "outputId": "9235b5d5-46e8-4267-d734-6550e728ac53"
      },
      "execution_count": 55,
      "outputs": [
        {
          "output_type": "stream",
          "name": "stdout",
          "text": [
            "Model: \"sequential_3\"\n",
            "_________________________________________________________________\n",
            " Layer (type)                Output Shape              Param #   \n",
            "=================================================================\n",
            " embedding_3 (Embedding)     (None, 100, 300)          17834700  \n",
            "                                                                 \n",
            " simple_rnn_3 (SimpleRNN)    (None, 100, 64)           23360     \n",
            "                                                                 \n",
            " time_distributed_3 (TimeDis  (None, 100, 13)          845       \n",
            " tributed)                                                       \n",
            "                                                                 \n",
            "=================================================================\n",
            "Total params: 17,858,905\n",
            "Trainable params: 17,858,905\n",
            "Non-trainable params: 0\n",
            "_________________________________________________________________\n"
          ]
        }
      ]
    },
    {
      "cell_type": "code",
      "source": [
        "rnn_training_t3 = rnn_model.fit(X_train, Y_train, batch_size=64, epochs=10, validation_data=(X_validation, Y_validation))"
      ],
      "metadata": {
        "colab": {
          "base_uri": "https://localhost:8080/"
        },
        "id": "AIdapzMliJ5O",
        "outputId": "71ae4ab3-9b0c-4683-e870-27f5a87c88d3"
      },
      "execution_count": 56,
      "outputs": [
        {
          "output_type": "stream",
          "name": "stdout",
          "text": [
            "Epoch 1/10\n",
            "816/816 [==============================] - 45s 55ms/step - loss: 0.1187 - acc: 0.9597 - val_loss: 0.1188 - val_acc: 0.9589\n",
            "Epoch 2/10\n",
            "816/816 [==============================] - 45s 55ms/step - loss: 0.1155 - acc: 0.9606 - val_loss: 0.1156 - val_acc: 0.9603\n",
            "Epoch 3/10\n",
            "816/816 [==============================] - 45s 56ms/step - loss: 0.1130 - acc: 0.9614 - val_loss: 0.1129 - val_acc: 0.9614\n",
            "Epoch 4/10\n",
            "816/816 [==============================] - 45s 55ms/step - loss: 0.1109 - acc: 0.9620 - val_loss: 0.1108 - val_acc: 0.9619\n",
            "Epoch 5/10\n",
            "816/816 [==============================] - 64s 78ms/step - loss: 0.1087 - acc: 0.9627 - val_loss: 0.1091 - val_acc: 0.9624\n",
            "Epoch 6/10\n",
            "816/816 [==============================] - 47s 57ms/step - loss: 0.1067 - acc: 0.9635 - val_loss: 0.1078 - val_acc: 0.9632\n",
            "Epoch 7/10\n",
            "816/816 [==============================] - 46s 56ms/step - loss: 0.1046 - acc: 0.9642 - val_loss: 0.1051 - val_acc: 0.9639\n",
            "Epoch 8/10\n",
            "816/816 [==============================] - 45s 55ms/step - loss: 0.1024 - acc: 0.9649 - val_loss: 0.1036 - val_acc: 0.9644\n",
            "Epoch 9/10\n",
            "816/816 [==============================] - 46s 57ms/step - loss: 0.1003 - acc: 0.9658 - val_loss: 0.1007 - val_acc: 0.9657\n",
            "Epoch 10/10\n",
            "816/816 [==============================] - 46s 56ms/step - loss: 0.0981 - acc: 0.9665 - val_loss: 0.0986 - val_acc: 0.9660\n"
          ]
        }
      ]
    },
    {
      "cell_type": "code",
      "source": [
        "plt.plot(rnn_training_t3.history['acc'])\n",
        "plt.plot(rnn_training_t3.history['val_acc'])\n",
        "plt.title('model accuracy')\n",
        "plt.ylabel('accuracy')\n",
        "plt.xlabel('epoch')\n",
        "plt.legend(['train', 'test'], loc=\"lower right\")\n",
        "plt.show()"
      ],
      "metadata": {
        "colab": {
          "base_uri": "https://localhost:8080/",
          "height": 295
        },
        "id": "tkAtSMYjiRZZ",
        "outputId": "d4f5fdb4-ecad-4b59-a1b2-084b44903fb1"
      },
      "execution_count": 57,
      "outputs": [
        {
          "output_type": "display_data",
          "data": {
            "text/plain": [
              "<Figure size 432x288 with 1 Axes>"
            ],
            "image/png": "[encoded data removed]"
          },
          "metadata": {
            "needs_background": "light"
          }
        }
      ]
    },
    {
      "cell_type": "code",
      "source": [
        "loss_t3 = rnn_training_t3.history['acc']\n",
        "val_loss_t3 = rnn_training_t3.history['val_acc']"
      ],
      "metadata": {
        "id": "nMjouugqUbth"
      },
      "execution_count": 58,
      "outputs": []
    },
    {
      "cell_type": "code",
      "source": [
        "loss_t3\n",
        "val_loss_t3"
      ],
      "metadata": {
        "colab": {
          "base_uri": "https://localhost:8080/"
        },
        "id": "OdnPpd70U3ou",
        "outputId": "11a79871-c30e-4455-b774-09ed49a0b7bf"
      },
      "execution_count": 59,
      "outputs": [
        {
          "output_type": "execute_result",
          "data": {
            "text/plain": [
              "[0.9589343667030334,\n",
              " 0.9602824449539185,\n",
              " 0.9614142775535583,\n",
              " 0.9619128704071045,\n",
              " 0.9624016880989075,\n",
              " 0.9631555676460266,\n",
              " 0.9638996124267578,\n",
              " 0.9643992781639099,\n",
              " 0.965701699256897,\n",
              " 0.9660091400146484]"
            ]
          },
          "metadata": {},
          "execution_count": 59
        }
      ]
    },
    {
      "cell_type": "code",
      "source": [
        "plt.plot(rnn_training_t3.history['acc'])\n",
        "plt.plot(rnn_training_t3.history['val_acc'])\n",
        "plt.plot(rnn_training_t2.history['acc'])\n",
        "plt.plot(rnn_training_t2.history['val_acc'])"
      ],
      "metadata": {
        "colab": {
          "base_uri": "https://localhost:8080/",
          "height": 285
        },
        "id": "klvI72LDU8Df",
        "outputId": "0cd2b3b0-2b00-4efe-9453-c0f523a7dfa7"
      },
      "execution_count": 60,
      "outputs": [
        {
          "output_type": "execute_result",
          "data": {
            "text/plain": [
              "[<matplotlib.lines.Line2D at 0x7f89175bdc10>]"
            ]
          },
          "metadata": {},
          "execution_count": 60
        },
        {
          "output_type": "display_data",
          "data": {
            "text/plain": [
              "<Figure size 432x288 with 1 Axes>"
            ],
            "image/png": "[encoded data removed]"
          },
          "metadata": {
            "needs_background": "light"
          }
        }
      ]
    },
    {
      "cell_type": "markdown",
      "source": [
        "LTSM"
      ],
      "metadata": {
        "id": "fOyLFZrqilA-"
      }
    },
    {
      "cell_type": "code",
      "source": [
        "lstm_model = Sequential()\n",
        "lstm_model.add(Embedding(input_dim     = VOCABULARY_SIZE,         # vocabulary size - number of unique words in data\n",
        "                         output_dim    = EMBEDDING_SIZE,          # length of vector with which each word is represented\n",
        "                         input_length  = MAX_SEQ_LENGTH,          # length of input sequence\n",
        "                         weights       = [embedding_weights],     # word embedding matrix\n",
        "                         trainable     = True                     # True - update embeddings_weight matrix\n",
        "))\n",
        "lstm_model.add(LSTM(64, return_sequences=True))\n",
        "lstm_model.add(TimeDistributed(Dense(NUM_CLASSES, activation='softmax')))"
      ],
      "metadata": {
        "id": "UFXXOkONiwDp"
      },
      "execution_count": 62,
      "outputs": []
    },
    {
      "cell_type": "code",
      "source": [
        "lstm_model.compile(loss      =  'categorical_crossentropy',\n",
        "                   optimizer =  'adam',\n",
        "                   metrics   =  ['acc'])"
      ],
      "metadata": {
        "id": "qz93WQQHix-S"
      },
      "execution_count": 63,
      "outputs": []
    },
    {
      "cell_type": "code",
      "source": [
        "lstm_model.summary()"
      ],
      "metadata": {
        "colab": {
          "base_uri": "https://localhost:8080/"
        },
        "id": "96jrCMGIi0EG",
        "outputId": "49e4e995-3011-4e21-f231-589ea01f223e"
      },
      "execution_count": 64,
      "outputs": [
        {
          "output_type": "stream",
          "name": "stdout",
          "text": [
            "Model: \"sequential_4\"\n",
            "_________________________________________________________________\n",
            " Layer (type)                Output Shape              Param #   \n",
            "=================================================================\n",
            " embedding_4 (Embedding)     (None, 100, 300)          17834700  \n",
            "                                                                 \n",
            " lstm (LSTM)                 (None, 100, 64)           93440     \n",
            "                                                                 \n",
            " time_distributed_4 (TimeDis  (None, 100, 13)          845       \n",
            " tributed)                                                       \n",
            "                                                                 \n",
            "=================================================================\n",
            "Total params: 17,928,985\n",
            "Trainable params: 17,928,985\n",
            "Non-trainable params: 0\n",
            "_________________________________________________________________\n"
          ]
        }
      ]
    },
    {
      "cell_type": "code",
      "source": [
        "lstm_training = lstm_model.fit(X_train, Y_train, batch_size=64, epochs=10, validation_data=(X_validation, Y_validation))"
      ],
      "metadata": {
        "colab": {
          "base_uri": "https://localhost:8080/"
        },
        "id": "SvCsyahFi2rX",
        "outputId": "8874f533-0d9b-4411-8520-ff10d690837e"
      },
      "execution_count": 65,
      "outputs": [
        {
          "output_type": "stream",
          "name": "stdout",
          "text": [
            "Epoch 1/10\n",
            "816/816 [==============================] - 310s 376ms/step - loss: 0.1738 - acc: 0.9595 - val_loss: 0.0328 - val_acc: 0.9891\n",
            "Epoch 2/10\n",
            "816/816 [==============================] - 302s 371ms/step - loss: 0.0254 - acc: 0.9911 - val_loss: 0.0263 - val_acc: 0.9904\n",
            "Epoch 3/10\n",
            "816/816 [==============================] - 305s 374ms/step - loss: 0.0192 - acc: 0.9930 - val_loss: 0.0247 - val_acc: 0.9910\n",
            "Epoch 4/10\n",
            "816/816 [==============================] - 306s 375ms/step - loss: 0.0164 - acc: 0.9940 - val_loss: 0.0244 - val_acc: 0.9913\n",
            "Epoch 5/10\n",
            "816/816 [==============================] - 304s 373ms/step - loss: 0.0142 - acc: 0.9948 - val_loss: 0.0245 - val_acc: 0.9916\n",
            "Epoch 6/10\n",
            "816/816 [==============================] - 305s 374ms/step - loss: 0.0123 - acc: 0.9955 - val_loss: 0.0248 - val_acc: 0.9917\n",
            "Epoch 7/10\n",
            "816/816 [==============================] - 307s 376ms/step - loss: 0.0106 - acc: 0.9962 - val_loss: 0.0257 - val_acc: 0.9916\n",
            "Epoch 8/10\n",
            "816/816 [==============================] - 305s 374ms/step - loss: 0.0091 - acc: 0.9968 - val_loss: 0.0272 - val_acc: 0.9914\n",
            "Epoch 9/10\n",
            "816/816 [==============================] - 304s 373ms/step - loss: 0.0078 - acc: 0.9973 - val_loss: 0.0289 - val_acc: 0.9913\n",
            "Epoch 10/10\n",
            "816/816 [==============================] - 306s 374ms/step - loss: 0.0066 - acc: 0.9977 - val_loss: 0.0303 - val_acc: 0.9913\n"
          ]
        }
      ]
    },
    {
      "cell_type": "code",
      "source": [
        "plt.plot(lstm_training.history['acc'])\n",
        "plt.plot(lstm_training.history['val_acc'])\n",
        "plt.title('model accuracy')\n",
        "plt.ylabel('accuracy')\n",
        "plt.xlabel('epoch')\n",
        "plt.legend(['train', 'test'], loc=\"lower right\")\n",
        "plt.show()"
      ],
      "metadata": {
        "colab": {
          "base_uri": "https://localhost:8080/",
          "height": 295
        },
        "id": "hyiJrHiHi44u",
        "outputId": "210d9089-8805-4078-b053-614b22d86119"
      },
      "execution_count": 66,
      "outputs": [
        {
          "output_type": "display_data",
          "data": {
            "text/plain": [
              "<Figure size 432x288 with 1 Axes>"
            ],
            "image/png": "[encoded data removed]"
          },
          "metadata": {
            "needs_background": "light"
          }
        }
      ]
    },
    {
      "cell_type": "code",
      "source": [
        "loss_ltsm = lstm_training.history['acc']\n",
        "val_loss_ltsm = lstm_training.history['val_acc']"
      ],
      "metadata": {
        "id": "-gof3A_DgDMa"
      },
      "execution_count": 67,
      "outputs": []
    },
    {
      "cell_type": "code",
      "source": [
        "loss_ltsm\n",
        "val_loss_ltsm"
      ],
      "metadata": {
        "colab": {
          "base_uri": "https://localhost:8080/"
        },
        "id": "TJpCmmiWgQMR",
        "outputId": "eddd6da0-99b4-4922-a9a0-56c4a243d7d4"
      },
      "execution_count": 68,
      "outputs": [
        {
          "output_type": "execute_result",
          "data": {
            "text/plain": [
              "[0.9890897274017334,\n",
              " 0.9904312491416931,\n",
              " 0.9909982681274414,\n",
              " 0.9913024306297302,\n",
              " 0.9915533065795898,\n",
              " 0.9916858673095703,\n",
              " 0.991607666015625,\n",
              " 0.9914034605026245,\n",
              " 0.9913263320922852,\n",
              " 0.9912893772125244]"
            ]
          },
          "metadata": {},
          "execution_count": 68
        }
      ]
    },
    {
      "cell_type": "markdown",
      "source": [
        "GRU"
      ],
      "metadata": {
        "id": "VaGxylWyi6v6"
      }
    },
    {
      "cell_type": "code",
      "source": [
        "gru_model = Sequential()\n",
        "gru_model.add(Embedding(input_dim     = VOCABULARY_SIZE,\n",
        "                        output_dim    = EMBEDDING_SIZE,\n",
        "                        input_length  = MAX_SEQ_LENGTH,\n",
        "                        weights       = [embedding_weights],\n",
        "                        trainable     = True\n",
        "))\n",
        "gru_model.add(GRU(64, return_sequences=True))\n",
        "gru_model.add(TimeDistributed(Dense(NUM_CLASSES, activation='softmax')))"
      ],
      "metadata": {
        "id": "jb30tUdwi8O3"
      },
      "execution_count": 69,
      "outputs": []
    },
    {
      "cell_type": "code",
      "source": [
        "gru_model.compile(loss='categorical_crossentropy',\n",
        "              optimizer='adam',\n",
        "              metrics=['acc'])"
      ],
      "metadata": {
        "id": "FZp21Eezi_W-"
      },
      "execution_count": 70,
      "outputs": []
    },
    {
      "cell_type": "code",
      "source": [
        "gru_model.summary()"
      ],
      "metadata": {
        "colab": {
          "base_uri": "https://localhost:8080/"
        },
        "id": "hb_rhPPejBcg",
        "outputId": "da30c110-1707-4e56-ba34-25a83dc5c482"
      },
      "execution_count": 71,
      "outputs": [
        {
          "output_type": "stream",
          "name": "stdout",
          "text": [
            "Model: \"sequential_5\"\n",
            "_________________________________________________________________\n",
            " Layer (type)                Output Shape              Param #   \n",
            "=================================================================\n",
            " embedding_5 (Embedding)     (None, 100, 300)          17834700  \n",
            "                                                                 \n",
            " gru (GRU)                   (None, 100, 64)           70272     \n",
            "                                                                 \n",
            " time_distributed_5 (TimeDis  (None, 100, 13)          845       \n",
            " tributed)                                                       \n",
            "                                                                 \n",
            "=================================================================\n",
            "Total params: 17,905,817\n",
            "Trainable params: 17,905,817\n",
            "Non-trainable params: 0\n",
            "_________________________________________________________________\n"
          ]
        }
      ]
    },
    {
      "cell_type": "code",
      "source": [
        "gru_training = gru_model.fit(X_train, Y_train, batch_size=64, epochs=10, validation_data=(X_validation, Y_validation))"
      ],
      "metadata": {
        "colab": {
          "base_uri": "https://localhost:8080/"
        },
        "id": "5Fo9ZoDSjDuv",
        "outputId": "7607c513-cab4-4dae-e7cd-b4df35dd1b64"
      },
      "execution_count": 72,
      "outputs": [
        {
          "output_type": "stream",
          "name": "stdout",
          "text": [
            "Epoch 1/10\n",
            "816/816 [==============================] - 287s 349ms/step - loss: 0.1311 - acc: 0.9726 - val_loss: 0.0293 - val_acc: 0.9896\n",
            "Epoch 2/10\n",
            "816/816 [==============================] - 282s 345ms/step - loss: 0.0228 - acc: 0.9917 - val_loss: 0.0253 - val_acc: 0.9906\n",
            "Epoch 3/10\n",
            "816/816 [==============================] - 285s 349ms/step - loss: 0.0179 - acc: 0.9933 - val_loss: 0.0242 - val_acc: 0.9911\n",
            "Epoch 4/10\n",
            "816/816 [==============================] - 285s 349ms/step - loss: 0.0156 - acc: 0.9941 - val_loss: 0.0240 - val_acc: 0.9913\n",
            "Epoch 5/10\n",
            "816/816 [==============================] - 283s 347ms/step - loss: 0.0138 - acc: 0.9948 - val_loss: 0.0244 - val_acc: 0.9914\n",
            "Epoch 6/10\n",
            "816/816 [==============================] - 283s 347ms/step - loss: 0.0121 - acc: 0.9955 - val_loss: 0.0249 - val_acc: 0.9915\n",
            "Epoch 7/10\n",
            "816/816 [==============================] - 283s 347ms/step - loss: 0.0104 - acc: 0.9962 - val_loss: 0.0261 - val_acc: 0.9914\n",
            "Epoch 8/10\n",
            "816/816 [==============================] - 283s 347ms/step - loss: 0.0089 - acc: 0.9968 - val_loss: 0.0275 - val_acc: 0.9914\n",
            "Epoch 9/10\n",
            "816/816 [==============================] - 284s 349ms/step - loss: 0.0076 - acc: 0.9973 - val_loss: 0.0293 - val_acc: 0.9911\n",
            "Epoch 10/10\n",
            "816/816 [==============================] - 286s 350ms/step - loss: 0.0065 - acc: 0.9977 - val_loss: 0.0314 - val_acc: 0.9910\n"
          ]
        }
      ]
    },
    {
      "cell_type": "code",
      "source": [
        "plt.plot(gru_training.history['acc'])\n",
        "plt.plot(gru_training.history['val_acc'])\n",
        "plt.title('model accuracy')\n",
        "plt.ylabel('accuracy')\n",
        "plt.xlabel('epoch')\n",
        "plt.legend(['train', 'test'], loc=\"lower right\")\n",
        "plt.show()"
      ],
      "metadata": {
        "colab": {
          "base_uri": "https://localhost:8080/",
          "height": 295
        },
        "id": "i3OdX5pHjF5P",
        "outputId": "11131276-4f9c-48aa-a669-f25965ae11c0"
      },
      "execution_count": 73,
      "outputs": [
        {
          "output_type": "display_data",
          "data": {
            "text/plain": [
              "<Figure size 432x288 with 1 Axes>"
            ],
            "image/png": "[encoded data removed]"
          },
          "metadata": {
            "needs_background": "light"
          }
        }
      ]
    },
    {
      "cell_type": "code",
      "source": [
        "loss_gru = gru_training.history['acc']\n",
        "val_loss_gru = gru_training.history['val_acc']"
      ],
      "metadata": {
        "id": "npwg0UZ5gXyJ"
      },
      "execution_count": 74,
      "outputs": []
    },
    {
      "cell_type": "code",
      "source": [
        "loss_gru\n",
        "val_loss_gru"
      ],
      "metadata": {
        "colab": {
          "base_uri": "https://localhost:8080/"
        },
        "id": "oi-urizTgdtk",
        "outputId": "a7b6c7cd-5c6e-4ab9-bc97-84c36f9da505"
      },
      "execution_count": 75,
      "outputs": [
        {
          "output_type": "execute_result",
          "data": {
            "text/plain": [
              "[0.9895926713943481,\n",
              " 0.990632176399231,\n",
              " 0.9911166429519653,\n",
              " 0.9913241267204285,\n",
              " 0.9913991093635559,\n",
              " 0.991492509841919,\n",
              " 0.9913697838783264,\n",
              " 0.9913958311080933,\n",
              " 0.9911090731620789,\n",
              " 0.9909623861312866]"
            ]
          },
          "metadata": {},
          "execution_count": 75
        }
      ]
    },
    {
      "cell_type": "markdown",
      "source": [
        "Bidirectional LSTM"
      ],
      "metadata": {
        "id": "Xgo4KBS8jOE3"
      }
    },
    {
      "cell_type": "code",
      "source": [
        "bidirect_model = Sequential()\n",
        "bidirect_model.add(Embedding(input_dim     = VOCABULARY_SIZE,\n",
        "                             output_dim    = EMBEDDING_SIZE,\n",
        "                             input_length  = MAX_SEQ_LENGTH,\n",
        "                             weights       = [embedding_weights],\n",
        "                             trainable     = True\n",
        "))\n",
        "bidirect_model.add(Bidirectional(LSTM(64, return_sequences=True)))\n",
        "bidirect_model.add(TimeDistributed(Dense(NUM_CLASSES, activation='softmax')))"
      ],
      "metadata": {
        "id": "4oEW6xlYjOwn"
      },
      "execution_count": 76,
      "outputs": []
    },
    {
      "cell_type": "code",
      "source": [
        "bidirect_model.compile(loss='categorical_crossentropy',\n",
        "              optimizer='adam',\n",
        "              metrics=['acc'])"
      ],
      "metadata": {
        "id": "9N7QBlvTjR6X"
      },
      "execution_count": 77,
      "outputs": []
    },
    {
      "cell_type": "code",
      "source": [
        "bidirect_model.summary()"
      ],
      "metadata": {
        "colab": {
          "base_uri": "https://localhost:8080/"
        },
        "id": "PWDwAKzojTW3",
        "outputId": "e21233fa-aa0a-4967-f625-f36306bc077d"
      },
      "execution_count": 78,
      "outputs": [
        {
          "output_type": "stream",
          "name": "stdout",
          "text": [
            "Model: \"sequential_6\"\n",
            "_________________________________________________________________\n",
            " Layer (type)                Output Shape              Param #   \n",
            "=================================================================\n",
            " embedding_6 (Embedding)     (None, 100, 300)          17834700  \n",
            "                                                                 \n",
            " bidirectional (Bidirectiona  (None, 100, 128)         186880    \n",
            " l)                                                              \n",
            "                                                                 \n",
            " time_distributed_6 (TimeDis  (None, 100, 13)          1677      \n",
            " tributed)                                                       \n",
            "                                                                 \n",
            "=================================================================\n",
            "Total params: 18,023,257\n",
            "Trainable params: 18,023,257\n",
            "Non-trainable params: 0\n",
            "_________________________________________________________________\n"
          ]
        }
      ]
    },
    {
      "cell_type": "code",
      "source": [
        "bidirect_training = bidirect_model.fit(X_train, Y_train, batch_size=64, epochs=10, validation_data=(X_validation, Y_validation))"
      ],
      "metadata": {
        "colab": {
          "base_uri": "https://localhost:8080/"
        },
        "id": "H8RbzyCUjVuT",
        "outputId": "285d11fa-2dda-4e2d-93f5-5e467eac1586"
      },
      "execution_count": 79,
      "outputs": [
        {
          "output_type": "stream",
          "name": "stdout",
          "text": [
            "Epoch 1/10\n",
            "816/816 [==============================] - 459s 558ms/step - loss: 0.1333 - acc: 0.9670 - val_loss: 0.0234 - val_acc: 0.9921\n",
            "Epoch 2/10\n",
            "816/816 [==============================] - 452s 554ms/step - loss: 0.0168 - acc: 0.9943 - val_loss: 0.0189 - val_acc: 0.9935\n",
            "Epoch 3/10\n",
            "816/816 [==============================] - 452s 553ms/step - loss: 0.0114 - acc: 0.9962 - val_loss: 0.0181 - val_acc: 0.9940\n",
            "Epoch 4/10\n",
            "816/816 [==============================] - 454s 556ms/step - loss: 0.0084 - acc: 0.9972 - val_loss: 0.0178 - val_acc: 0.9943\n",
            "Epoch 5/10\n",
            "816/816 [==============================] - 447s 548ms/step - loss: 0.0060 - acc: 0.9981 - val_loss: 0.0185 - val_acc: 0.9943\n",
            "Epoch 6/10\n",
            "816/816 [==============================] - 447s 548ms/step - loss: 0.0043 - acc: 0.9986 - val_loss: 0.0199 - val_acc: 0.9942\n",
            "Epoch 7/10\n",
            "816/816 [==============================] - 450s 551ms/step - loss: 0.0030 - acc: 0.9991 - val_loss: 0.0218 - val_acc: 0.9940\n",
            "Epoch 8/10\n",
            "816/816 [==============================] - 454s 556ms/step - loss: 0.0021 - acc: 0.9994 - val_loss: 0.0234 - val_acc: 0.9940\n",
            "Epoch 9/10\n",
            "816/816 [==============================] - 453s 555ms/step - loss: 0.0014 - acc: 0.9996 - val_loss: 0.0259 - val_acc: 0.9938\n",
            "Epoch 10/10\n",
            "816/816 [==============================] - 450s 552ms/step - loss: 9.6794e-04 - acc: 0.9998 - val_loss: 0.0274 - val_acc: 0.9936\n"
          ]
        }
      ]
    },
    {
      "cell_type": "code",
      "source": [
        "plt.plot(bidirect_training.history['acc'])\n",
        "plt.plot(bidirect_training.history['val_acc'])\n",
        "plt.title('model accuracy')\n",
        "plt.ylabel('accuracy')\n",
        "plt.xlabel('epoch')\n",
        "plt.legend(['train', 'test'], loc=\"lower right\")\n",
        "plt.show()"
      ],
      "metadata": {
        "id": "Gr01eeO0jZEH",
        "colab": {
          "base_uri": "https://localhost:8080/",
          "height": 295
        },
        "outputId": "59738f4a-ab9f-41cc-f32d-c88e9813a1a2"
      },
      "execution_count": 80,
      "outputs": [
        {
          "output_type": "display_data",
          "data": {
            "text/plain": [
              "<Figure size 432x288 with 1 Axes>"
            ],
            "image/png": "[encoded data removed]"
          },
          "metadata": {
            "needs_background": "light"
          }
        }
      ]
    },
    {
      "cell_type": "code",
      "source": [
        "loss_b = bidirect_training.history['acc']\n",
        "val_loss_b = bidirect_training.history['val_acc']"
      ],
      "metadata": {
        "id": "Lfco122WgyRY"
      },
      "execution_count": 81,
      "outputs": []
    },
    {
      "cell_type": "code",
      "source": [
        "loss_b\n",
        "val_loss_b"
      ],
      "metadata": {
        "id": "LbegaL3Mgy9g",
        "colab": {
          "base_uri": "https://localhost:8080/"
        },
        "outputId": "1a497c03-f539-4305-b717-903035f14d18"
      },
      "execution_count": 82,
      "outputs": [
        {
          "output_type": "execute_result",
          "data": {
            "text/plain": [
              "[0.9921431541442871,\n",
              " 0.9934900999069214,\n",
              " 0.9940038919448853,\n",
              " 0.9942863583564758,\n",
              " 0.9942874312400818,\n",
              " 0.9942233562469482,\n",
              " 0.9940343499183655,\n",
              " 0.9940223693847656,\n",
              " 0.9938387870788574,\n",
              " 0.9936443567276001]"
            ]
          },
          "metadata": {},
          "execution_count": 82
        }
      ]
    },
    {
      "cell_type": "markdown",
      "source": [
        "Model evaluation"
      ],
      "metadata": {
        "id": "h9zAdhaqjbFP"
      }
    },
    {
      "cell_type": "code",
      "source": [
        "loss, accuracy = rnn_model.evaluate(X_test, Y_test, verbose = 1)\n",
        "print(\"Loss: {0},\\nAccuracy: {1}\".format(loss, accuracy))"
      ],
      "metadata": {
        "id": "XDUr25nWjbju",
        "colab": {
          "base_uri": "https://localhost:8080/"
        },
        "outputId": "3e56f509-30c8-44c1-b364-e935bd86611c"
      },
      "execution_count": 83,
      "outputs": [
        {
          "output_type": "stream",
          "name": "stdout",
          "text": [
            "339/339 [==============================] - 6s 18ms/step - loss: 0.0981 - acc: 0.9663\n",
            "Loss: 0.09812648594379425,\n",
            "Accuracy: 0.9662755131721497\n"
          ]
        }
      ]
    },
    {
      "cell_type": "code",
      "source": [
        "loss, accuracy = lstm_model.evaluate(X_test, Y_test, verbose = 1)\n",
        "print(\"Loss: {0},\\nAccuracy: {1}\".format(loss, accuracy))"
      ],
      "metadata": {
        "id": "gXqgj6jsjerv",
        "colab": {
          "base_uri": "https://localhost:8080/"
        },
        "outputId": "7b26da18-bb47-41b2-e627-deea3716e32c"
      },
      "execution_count": 84,
      "outputs": [
        {
          "output_type": "stream",
          "name": "stdout",
          "text": [
            "339/339 [==============================] - 9s 28ms/step - loss: 0.0293 - acc: 0.9914\n",
            "Loss: 0.02934468910098076,\n",
            "Accuracy: 0.9914015531539917\n"
          ]
        }
      ]
    },
    {
      "cell_type": "code",
      "source": [
        "loss, accuracy = gru_model.evaluate(X_test, Y_test, verbose = 1)\n",
        "print(\"Loss: {0},\\nAccuracy: {1}\".format(loss, accuracy))"
      ],
      "metadata": {
        "id": "gOoMIUnmjgk2",
        "colab": {
          "base_uri": "https://localhost:8080/"
        },
        "outputId": "f720605a-b0ea-4820-a2c4-1d40c9d590fe"
      },
      "execution_count": 85,
      "outputs": [
        {
          "output_type": "stream",
          "name": "stdout",
          "text": [
            "339/339 [==============================] - 8s 23ms/step - loss: 0.0304 - acc: 0.9912\n",
            "Loss: 0.030376117676496506,\n",
            "Accuracy: 0.9911965727806091\n"
          ]
        }
      ]
    },
    {
      "cell_type": "code",
      "source": [
        "loss, accuracy = bidirect_model.evaluate(X_test, Y_test, verbose = 1)\n",
        "print(\"Loss: {0},\\nAccuracy: {1}\".format(loss, accuracy))"
      ],
      "metadata": {
        "id": "NNAp8EdrjiHZ",
        "colab": {
          "base_uri": "https://localhost:8080/"
        },
        "outputId": "afcb9101-1fb4-4074-92d9-df54db12b3a1"
      },
      "execution_count": 86,
      "outputs": [
        {
          "output_type": "stream",
          "name": "stdout",
          "text": [
            "339/339 [==============================] - 16s 47ms/step - loss: 0.0262 - acc: 0.9938\n",
            "Loss: 0.026186702772974968,\n",
            "Accuracy: 0.9938297271728516\n"
          ]
        }
      ]
    },
    {
      "cell_type": "code",
      "source": [
        "from nltk.corpus import stopwords\n",
        "nltk.download('stopwords')\n",
        "def getdictWithoutStopWords (text2):\n",
        "  DataSet = open(text2, \"r\", encoding=\"utf-8\")\n",
        "  text = DataSet.read()\n",
        "  english_stopwords = stopwords.words(\"english\")\n",
        "  english_stopwords.extend([',', '.','-','!','?','\\'s','|',';',])\n",
        "  text_tokens = word_tokenize(text)\n",
        "  text = nltk.Text(text_tokens)\n",
        "  text_tokens = [token.strip() for token in text_tokens if token not in english_stopwords]\n",
        "  fdist = FreqDist(text)\n",
        "  tagged = nltk.pos_tag(text)\n",
        "  text = nltk.Text(text_tokens)\n",
        "  fdist_sw = FreqDist(text)\n",
        "  fdist_sw.most_common(20)\n",
        "  fdist_sw.plot(20,cumulative=False)\n",
        "  #print(type(text_tokens), len(text_tokens))\n",
        "  print('Частотная встречаемость по словам в тексте',fdist_sw.most_common(20))\n",
        "  print('CC Координирующее соединение\\nCD Кардинальная цифра\\nВ Предлог\\nJJ Прилагательное\\nJJR Прилагательное, сравнительное\\nJJS Прилагательное, превосходное\\nНН Существительное\\nPRP Личное местоимение\\nPRP $ Притяжательное местоимение\\nRB Наречие\\nRP Частица\\nVBD Глагол ')\n",
        "  print(tagged[:20])"
      ],
      "metadata": {
        "id": "UrROdyUUUyxF",
        "colab": {
          "base_uri": "https://localhost:8080/"
        },
        "outputId": "70e41c9f-6e20-4269-a6ff-3ac1c775c5ea"
      },
      "execution_count": 87,
      "outputs": [
        {
          "output_type": "stream",
          "name": "stderr",
          "text": [
            "[nltk_data] Downloading package stopwords to /root/nltk_data...\n",
            "[nltk_data]   Unzipping corpora/stopwords.zip.\n"
          ]
        }
      ]
    },
    {
      "cell_type": "code",
      "source": [
        "from nltk import word_tokenize\n",
        "nltk.download('punkt')\n",
        "from nltk.probability import FreqDist\n",
        "import nltk\n",
        "nltk.download('averaged_perceptron_tagger')\n",
        "def getdict (text2):\n",
        "  DataSet = open(text2, \"r\", encoding=\"utf-8\")\n",
        "  text = DataSet.read()\n",
        "  text_tokens = word_tokenize(text)\n",
        "  text = nltk.Text(text_tokens)\n",
        "  fdist = FreqDist(text)\n",
        "  tagged = nltk.pos_tag(text)\n",
        "  #print(type(text_tokens), len(text_tokens))\n",
        "  print('Частотная встречаемость по словам в тексте',fdist.most_common(20))\n",
        "  print('CC Координирующее соединение\\nCD Кардинальная цифра\\nВ Предлог\\nJJ Прилагательное\\nJJR Прилагательное, сравнительное\\nJJS Прилагательное, превосходное\\nНН Существительное\\nPRP Личное местоимение\\nPRP $ Притяжательное местоимение\\nRB Наречие\\nRP Частица\\nVBD Глагол ')\n",
        "  print(tagged[:20])\n",
        "  fdist.plot(20,cumulative=False)\n",
        "  #print(tagged)\n",
        "  #text_tokens[:20]"
      ],
      "metadata": {
        "id": "_A6OKNa4Ir5V",
        "colab": {
          "base_uri": "https://localhost:8080/"
        },
        "outputId": "9ecf5f69-0115-424c-ae94-a91e264ee8c5"
      },
      "execution_count": 88,
      "outputs": [
        {
          "output_type": "stream",
          "name": "stderr",
          "text": [
            "[nltk_data] Downloading package punkt to /root/nltk_data...\n",
            "[nltk_data]   Package punkt is already up-to-date!\n",
            "[nltk_data] Downloading package averaged_perceptron_tagger to\n",
            "[nltk_data]     /root/nltk_data...\n",
            "[nltk_data]   Unzipping taggers/averaged_perceptron_tagger.zip.\n"
          ]
        }
      ]
    },
    {
      "cell_type": "code",
      "source": [
        "getdict('/content/drive/MyDrive/LrNK/test_text.txt')"
      ],
      "metadata": {
        "id": "bAIKsbq9JDHm",
        "colab": {
          "base_uri": "https://localhost:8080/",
          "height": 563
        },
        "outputId": "b9617484-dd79-4d3d-8018-820862e74d47"
      },
      "execution_count": 89,
      "outputs": [
        {
          "output_type": "stream",
          "name": "stdout",
          "text": [
            "Частотная встречаемость по словам в тексте [(',', 94), ('the', 50), ('.', 33), ('of', 32), ('and', 31), ('he', 24), ('to', 23), ('was', 22), ('in', 19), ('a', 17), ('his', 14), ('that', 14), ('with', 11), ('I', 11), ('at', 10), ('time', 10), ('all', 9), ('not', 8), ('it', 8), ('young', 7)]\n",
            "CC Координирующее соединение\n",
            "CD Кардинальная цифра\n",
            "В Предлог\n",
            "JJ Прилагательное\n",
            "JJR Прилагательное, сравнительное\n",
            "JJS Прилагательное, превосходное\n",
            "НН Существительное\n",
            "PRP Личное местоимение\n",
            "PRP $ Притяжательное местоимение\n",
            "RB Наречие\n",
            "RP Частица\n",
            "VBD Глагол \n",
            "[('At', 'IN'), ('the', 'DT'), ('beginning', 'NN'), ('of', 'IN'), ('July', 'NNP'), (',', ','), ('at', 'IN'), ('an', 'DT'), ('extremely', 'RB'), ('hot', 'JJ'), ('time', 'NN'), (',', ','), ('in', 'IN'), ('the', 'DT'), ('evening', 'NN'), (',', ','), ('one', 'CD'), ('young', 'JJ'), ('man', 'NN'), ('came', 'VBD')]\n"
          ]
        },
        {
          "output_type": "display_data",
          "data": {
            "text/plain": [
              "<Figure size 432x288 with 1 Axes>"
            ],
            "image/png": "[encoded data removed]"
          },
          "metadata": {
            "needs_background": "light"
          }
        }
      ]
    },
    {
      "cell_type": "code",
      "source": [
        "getdictWithoutStopWords('/content/drive/MyDrive/LrNK/test_text.txt')"
      ],
      "metadata": {
        "id": "hIX8EzvRXQ3F",
        "colab": {
          "base_uri": "https://localhost:8080/",
          "height": 578
        },
        "outputId": "f1e00589-14bc-45d8-93bd-9fa16b152366"
      },
      "execution_count": 90,
      "outputs": [
        {
          "output_type": "display_data",
          "data": {
            "text/plain": [
              "<Figure size 432x288 with 1 Axes>"
            ],
            "image/png": "[encoded data removed]"
          },
          "metadata": {
            "needs_background": "light"
          }
        },
        {
          "output_type": "stream",
          "name": "stdout",
          "text": [
            "Частотная встречаемость по словам в тексте [('I', 11), ('time', 10), ('young', 7), ('street', 6), ('He', 6), ('meeting', 6), ('afraid', 6), ('even', 6), ('man', 5), ('one', 4), ('closet', 4), ('went', 4), ('stairs', 4), ('But', 4), ('’', 4), ('hostess', 3), ('every', 3), ('ashamed', 3), ('It', 3), ('already', 3)]\n",
            "CC Координирующее соединение\n",
            "CD Кардинальная цифра\n",
            "В Предлог\n",
            "JJ Прилагательное\n",
            "JJR Прилагательное, сравнительное\n",
            "JJS Прилагательное, превосходное\n",
            "НН Существительное\n",
            "PRP Личное местоимение\n",
            "PRP $ Притяжательное местоимение\n",
            "RB Наречие\n",
            "RP Частица\n",
            "VBD Глагол \n",
            "[('At', 'IN'), ('the', 'DT'), ('beginning', 'NN'), ('of', 'IN'), ('July', 'NNP'), (',', ','), ('at', 'IN'), ('an', 'DT'), ('extremely', 'RB'), ('hot', 'JJ'), ('time', 'NN'), (',', ','), ('in', 'IN'), ('the', 'DT'), ('evening', 'NN'), (',', ','), ('one', 'CD'), ('young', 'JJ'), ('man', 'NN'), ('came', 'VBD')]\n"
          ]
        }
      ]
    }
  ]
}